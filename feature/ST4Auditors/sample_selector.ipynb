{
 "cells": [
  {
   "cell_type": "code",
   "execution_count": null,
   "metadata": {},
   "outputs": [],
   "source": [
    "pip install pandas openpyxl"
   ]
  },
  {
   "cell_type": "code",
   "execution_count": null,
   "metadata": {},
   "outputs": [],
   "source": [
    "import pandas as pd\n",
    "import random\n",
    "import datetime\n",
    "import hashlib"
   ]
  },
  {
   "cell_type": "code",
   "execution_count": null,
   "metadata": {},
   "outputs": [],
   "source": [
    "# Obtenha a data e hora atual como uma string\n",
    "current_datetime = datetime.datetime.now().strftime('%Y%m%d%H%M%S')"
   ]
  },
  {
   "cell_type": "code",
   "execution_count": null,
   "metadata": {},
   "outputs": [],
   "source": [
    "# Converta a string da data e hora em um número inteiro usando uma função de hash\n",
    "seed = hash(seed) % (2**32 - 1)"
   ]
  },
  {
   "cell_type": "code",
   "execution_count": null,
   "metadata": {},
   "outputs": [],
   "source": [
    "# Use a semente personalizada se fornecida, caso contrário, use a semente gerada a partir da data e hora\n",
    "custom_seed = None  # Pode definir uma semente personalizada se desejar\n",
    "random_state = custom_seed if custom_seed is not None else seed"
   ]
  },
  {
   "cell_type": "code",
   "execution_count": null,
   "metadata": {},
   "outputs": [],
   "source": [
    "# Nome do arquivo de entrada e saída\n",
    "input_file = 'input_example.xlsx'  # Substitua pelo nome do seu arquivo de entrada\n",
    "output_file = 'amostras_selecionadas.xlsx'  # Nome do arquivo de saída\n"
   ]
  },
  {
   "cell_type": "code",
   "execution_count": null,
   "metadata": {},
   "outputs": [],
   "source": [
    "# Número de amostras a serem selecionadas\n",
    "n_samples = 25"
   ]
  },
  {
   "cell_type": "code",
   "execution_count": null,
   "metadata": {},
   "outputs": [],
   "source": [
    "# Verifique a extensão do arquivo de entrada para usar a função correta de leitura\n",
    "if input_file.endswith('.csv'):\n",
    "    df = pd.read_csv(input_file)\n",
    "elif input_file.endswith('.xlsx'):\n",
    "    df = pd.read_excel(input_file, engine='openpyxl')\n",
    "else:\n",
    "    print(\"Formato de arquivo não suportado. Use um arquivo CSV ou XLSX\")"
   ]
  },
  {
   "cell_type": "code",
   "execution_count": null,
   "metadata": {},
   "outputs": [],
   "source": [
    "# Verifique se n_samples é menor ou igual ao número de linhas no DataFrame\n",
    "if n_samples > len(df):\n",
    "    print(f\"O número de amostras solicitadas ({n_samples}) é maior do que o número de registros no arquivo ({len(df)}).\")\n",
    "else:\n",
    "    # Selecione amostras aleatórias\n",
    "    selected_samples = df.sample(n=n_samples, random_state=random_state)\n",
    "\n",
    "    # Salve as amostras selecionadas em um novo arquivo CSV ou XLSX\n",
    "    if output_file.endswith('.csv'):\n",
    "        selected_samples.to_csv(output_file, index=False)\n",
    "    elif output_file.endswith('.xlsx'):\n",
    "        selected_samples.to_excel(output_file, index=False, engine='openpyxl')\n",
    "    else:\n",
    "        print(\"Formato de arquivo de saída não suportado. Use um arquivo CSV ou XLSX.\")\n"
   ]
  },
  {
   "cell_type": "code",
   "execution_count": null,
   "metadata": {},
   "outputs": [],
   "source": [
    "# Calcule o hash SHA256 do arquivo de entrada\n",
    "sha256_hash = hashlib.sha256()\n",
    "with open(input_file, \"rb\") as f:\n",
    "    for byte_block in iter(lambda: f.read(4096), b\"\"):\n",
    "        sha256_hash.update(byte_block)\n",
    "\n",
    "# Calcule o hash MD5 do arquivo de entrada\n",
    "md5_hash = hashlib.md5()\n",
    "with open(input_file, \"rb\") as f:\n",
    "    for byte_block in iter(lambda: f.read(4096), b\"\"):\n",
    "        md5_hash.update(byte_block)\n",
    "\n",
    "print(f\"Hashes SHA256/MD5 do arquivo {input_file}:\")\n",
    "print(f\"SHA256: {sha256_hash.hexdigest()}\")\n",
    "print(f\"MD5: {md5_hash.hexdigest()}\")\n",
    "print(f\"Seed utilizado para amostragem: {random_state}\")\n",
    "print(f\"{n_samples} amostras selecionadas e salvas em {output_file}.\")"
   ]
  },
  {
   "cell_type": "code",
   "execution_count": null,
   "metadata": {},
   "outputs": [],
   "source": []
  }
 ],
 "metadata": {
  "kernelspec": {
   "display_name": "Python 3",
   "language": "python",
   "name": "python3"
  },
  "language_info": {
   "codemirror_mode": {
    "name": "ipython",
    "version": 3
   },
   "file_extension": ".py",
   "mimetype": "text/x-python",
   "name": "python",
   "nbconvert_exporter": "python",
   "pygments_lexer": "ipython3",
   "version": "3.9.6"
  }
 },
 "nbformat": 4,
 "nbformat_minor": 2
}
